{
 "cells": [
  {
   "cell_type": "code",
   "execution_count": null,
   "metadata": {},
   "outputs": [],
   "source": [
    "import glob\n",
    "import numpy as np\n",
    "import pandas as pd\n",
    "import clima_anom as ca\n",
    "import cartopy\n",
    "import cartopy.feature as feature\n",
    "import cartopy.crs as ccrs\n",
    "import matplotlib.pyplot as plt\n",
    "from netCDF4 import Dataset\n",
    "\n",
    "import cartopy\n",
    "import cartopy.crs as ccrs\n",
    "import cartopy.feature as cfeature\n",
    "import matplotlib.pyplot as plt\n",
    "import matplotlib.gridspec as gridspec"
   ]
  },
  {
   "cell_type": "code",
   "execution_count": null,
   "metadata": {},
   "outputs": [],
   "source": [
    "Ano = '2018'\n",
    "Mes = '03'\n",
    "acumm = '15min'\n",
    "Region = 'SA'"
   ]
  },
  {
   "cell_type": "code",
   "execution_count": null,
   "metadata": {},
   "outputs": [],
   "source": [
    "data_dir = '/mnt/Data/Data/GLM/SA/List/List_'+ acumm + '/'+Ano+'/'+Mes+'/*.csv'\n",
    "lista_GLM = glob.glob(data_dir)\n",
    "lista_GLM = sorted(lista_GLM)"
   ]
  },
  {
   "cell_type": "code",
   "execution_count": null,
   "metadata": {},
   "outputs": [],
   "source": [
    "for t in range(len(lista_GLM)): #len(lista_GLM)\n",
    "\n",
    "    name = lista_GLM[t]\n",
    "    name_out = lista_GLM[t].split('/')[10].replace(\"List\", \"Flash\")\n",
    "    Dia = name_out.split('_')[4]\n",
    "    Hora = name_out.split('_')[5]\n",
    "    Minu_s_s = name_out.split('_')[6]\n",
    "\n",
    "    lista_files = pd.read_csv(name)\n",
    "\n",
    "    GLM_dia = []\n",
    "    GLM_hora = []\n",
    "    GLM_min = []\n",
    "    GLM_lon = []\n",
    "    GLM_lat = []\n",
    "\n",
    "    for n in range(len(lista_files)):\n",
    "\n",
    "        name_v1 = '/mnt/Data/' + lista_files['File'][n]\n",
    "        data = Dataset(name_v1,mode = 'r')\n",
    "\n",
    "        lat = data['flash_lat']\n",
    "        lon = data['flash_lon']\n",
    "\n",
    "        GLM_lat = np.concatenate(([GLM_lat,lat]), axis=0)\n",
    "        GLM_lon = np.concatenate(([GLM_lon,lon]), axis=0)\n",
    "\n",
    "        GLM_flash = pd.DataFrame({'dia':Dia,'hora':Hora,'minuto':Minu_s_s,'Lat':GLM_lat,'Lon':GLM_lon})\n",
    "\n",
    "        if Region == 'SA':\n",
    "            out1 = GLM_flash[(GLM_flash['Lon'] > -85) & (GLM_flash['Lon'] < -30 )]\n",
    "            out2 = out1[(out1['Lat'] > -45) & (out1['Lat'] < 10 )]\n",
    "\n",
    "        if Region == 'SaoPaulo':\n",
    "            out1 = GLM_flash[(GLM_flash['Lon'] > -50) & (GLM_flash['Lon'] < -44 )]\n",
    "            out2 = out1[(out1['Lat'] > -25) & (out1['Lat'] < -20 )]\n",
    "\n",
    "    # salida = '/mnt/Data/Data/GLM/SA/Point/'+Ano+'/'+Mes+'/' + name_out\n",
    "    # export_csv = out2.to_csv(salida, index = None, header=True)  \n",
    "    # print(salida)"
   ]
  },
  {
   "cell_type": "code",
   "execution_count": null,
   "metadata": {},
   "outputs": [],
   "source": [
    "lat = out2['Lat']\n",
    "lon = out2['Lon']\n",
    "\n",
    "levels = np.arange(0,34,2)\n",
    "cmap = plt.cm.Spectral_r\n",
    "\n",
    "proj = ccrs.PlateCarree()\n",
    "\n",
    "fig = plt.figure(figsize=(10,10),dpi=150)\n",
    "gs = gridspec.GridSpec(2,2)\n",
    "\n",
    "ax1 = plt.subplot(gs[0, 0:], projection = proj)\n",
    "ax1.add_feature(cfeature.COASTLINE,linewidth=0.5,color='black',zorder=4)\n",
    "ax1.scatter(lon, lat, s=2)"
   ]
  },
  {
   "cell_type": "code",
   "execution_count": null,
   "metadata": {},
   "outputs": [],
   "source": []
  }
 ],
 "metadata": {
  "interpreter": {
   "hash": "c6c4883052875ec3257edf99ee092a790b9a432228222ee7e742d4f8a559e5a8"
  },
  "kernelspec": {
   "display_name": "Python 3.9.7 ('AXE')",
   "language": "python",
   "name": "python3"
  },
  "language_info": {
   "codemirror_mode": {
    "name": "ipython",
    "version": 3
   },
   "file_extension": ".py",
   "mimetype": "text/x-python",
   "name": "python",
   "nbconvert_exporter": "python",
   "pygments_lexer": "ipython3",
   "version": "3.9.7"
  },
  "orig_nbformat": 4
 },
 "nbformat": 4,
 "nbformat_minor": 2
}
