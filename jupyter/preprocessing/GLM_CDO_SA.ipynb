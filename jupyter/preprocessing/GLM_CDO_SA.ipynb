{
 "cells": [
  {
   "cell_type": "code",
   "execution_count": 1,
   "metadata": {},
   "outputs": [],
   "source": [
    "import os\n",
    "import glob\n",
    "import subprocess\n",
    "import numpy as np\n",
    "\n",
    "import clima_anom as ca\n",
    "\n",
    "import xarray as xr\n",
    "import pandas as pd\n",
    "\n",
    "import cartopy\n",
    "import cartopy.feature as cf\n",
    "import cartopy.crs as ccrs\n",
    "import cartopy.io.shapereader as shpreader\n",
    "\n",
    "import matplotlib.pyplot as plt\n",
    "import matplotlib.gridspec as gridspec\n"
   ]
  },
  {
   "cell_type": "code",
   "execution_count": 2,
   "metadata": {},
   "outputs": [],
   "source": [
    "year = '2019'\n",
    "month = '03'"
   ]
  },
  {
   "cell_type": "code",
   "execution_count": 3,
   "metadata": {},
   "outputs": [
    {
     "name": "stdout",
     "output_type": "stream",
     "text": [
      "['/home/arturo/Documents/GLM/2019/03/OR_GLM-L2-LCFA_G16_s20190300000000_e20190300000200_c20190300000226.nc', '/home/arturo/Documents/GLM/2019/03/OR_GLM-L2-LCFA_G16_s20190300000200_e20190300000400_c20190300000428.nc', '/home/arturo/Documents/GLM/2019/03/OR_GLM-L2-LCFA_G16_s20190300000400_e20190300001000_c20190300001027.nc', '/home/arturo/Documents/GLM/2019/03/OR_GLM-L2-LCFA_G16_s20190300001000_e20190300001200_c20190300001226.nc', '/home/arturo/Documents/GLM/2019/03/OR_GLM-L2-LCFA_G16_s20190300001200_e20190300001400_c20190300001427.nc']\n"
     ]
    }
   ],
   "source": [
    "list_files = glob.glob('/home/arturo/Documents/GLM/'+year+'/'+month+'/*.nc')\n",
    "list_files = sorted(list_files)\n",
    "print(list_files[0:5])"
   ]
  },
  {
   "cell_type": "code",
   "execution_count": 4,
   "metadata": {},
   "outputs": [],
   "source": [
    "lat_min = -60\n",
    "lat_max = 15\n",
    "lon_min = -85\n",
    "lon_max = -30\n",
    "\n",
    "command = '-sellonlatbox,lon_min,lon_max,lat_min,lat_max'"
   ]
  },
  {
   "cell_type": "code",
   "execution_count": 5,
   "metadata": {},
   "outputs": [
    {
     "name": "stdout",
     "output_type": "stream",
     "text": [
      "/home/arturo/Documents/GLM/2019/03/OR_GLM-L2-LCFA_G16_s20190300000000_e20190300000200_c20190300000226.nc\n",
      "/home/arturo/Documents/GLM/2019/03/OR_GLM-L2-LCFA_G16_s20190300000200_e20190300000400_c20190300000428.nc\n"
     ]
    }
   ],
   "source": [
    "dir_out = '/home/arturo/Documents/GLM/SA/'+year+'/'+month+'/'\n",
    "\n",
    "for t in range(2):#len(list_files))\n",
    "    infile = list_files[t]\n",
    "    filename = list_files[t].split('/')[-1]\n",
    "    fileout = dir_out + filename\n",
    "    print(infile)\n",
    "\n",
    "    if not os.path.exists(dir_out):\n",
    "        os.makedirs(dir_out)\n",
    "\n",
    "    # subprocess.run([\"cdo\", command, infile, fileout])\n"
   ]
  },
  {
   "cell_type": "code",
   "execution_count": 6,
   "metadata": {},
   "outputs": [
    {
     "name": "stdout",
     "output_type": "stream",
     "text": [
      "Number of variables:  48\n"
     ]
    }
   ],
   "source": [
    "data = ca.read_netcdf(infile,1)\n",
    "# data = xr.open_dataset(infile)"
   ]
  },
  {
   "cell_type": "code",
   "execution_count": 7,
   "metadata": {},
   "outputs": [],
   "source": [
    "event_list = ['event_id', 'event_time_offset', 'event_lat', 'event_lon', 'event_energy', 'event_parent_group_id']\n",
    "group_list = ['group_id', 'group_time_offset', 'group_frame_time_offset', 'group_lat', 'group_lon', 'group_area', 'group_energy', 'group_parent_flash_id', 'group_quality_flag']\n",
    "flash_list = ['flash_id', 'flash_time_offset_of_first_event', 'flash_time_offset_of_last_event', 'flash_frame_time_offset_of_first_event', 'flash_frame_time_offset_of_last_event', 'flash_lat', 'flash_lon', 'flash_area', 'flash_energy', 'flash_quality_flag']"
   ]
  },
  {
   "cell_type": "code",
   "execution_count": 8,
   "metadata": {},
   "outputs": [],
   "source": [
    "event_array = None\n",
    "\n",
    "for nn in range(len(event_list)):\n",
    "\n",
    "    if event_array is None:\n",
    "\n",
    "        event_array = data[event_list[nn]]\n",
    "\n",
    "    else:\n",
    "\n",
    "        event_array = np.vstack([event_array, data[event_list[nn]]])\n",
    "\n",
    "event_array = event_array.T"
   ]
  },
  {
   "cell_type": "code",
   "execution_count": 9,
   "metadata": {},
   "outputs": [],
   "source": [
    "group_array = None\n",
    "\n",
    "for nn in range(len(group_list)):\n",
    "\n",
    "    if group_array is None:\n",
    "\n",
    "        group_array = data[group_list[nn]]\n",
    "\n",
    "    else:\n",
    "\n",
    "        group_array = np.vstack([group_array, data[group_list[nn]]])\n",
    "\n",
    "group_array = group_array.T"
   ]
  },
  {
   "cell_type": "code",
   "execution_count": 10,
   "metadata": {},
   "outputs": [],
   "source": [
    "flash_array = None\n",
    "\n",
    "for nn in range(len(flash_list)):\n",
    "\n",
    "    if flash_array is None:\n",
    "\n",
    "        flash_array = data[flash_list[nn]]\n",
    "\n",
    "    else:\n",
    "\n",
    "        flash_array = np.vstack((flash_array, data[flash_list[nn]]))\n",
    "\n",
    "flash_array = flash_array.T"
   ]
  },
  {
   "cell_type": "code",
   "execution_count": 11,
   "metadata": {},
   "outputs": [],
   "source": [
    "df_event = pd.DataFrame(event_array, columns=event_list)\n",
    "df_event = df_event[(df_event['event_lat'] > lat_min) & (df_event['event_lat'] < lat_max ) & (df_event['event_lon'] > lon_min) & (df_event['event_lon'] > lon_min)]"
   ]
  },
  {
   "cell_type": "code",
   "execution_count": 12,
   "metadata": {},
   "outputs": [],
   "source": [
    "df_group = pd.DataFrame(group_array, columns=group_list)\n",
    "df_group = df_group[(df_group['group_lat'] > lat_min) & (df_group['group_lat'] < lat_max ) & (df_group['group_lon'] > lon_min) & (df_group['group_lon'] > lon_min)]"
   ]
  },
  {
   "cell_type": "code",
   "execution_count": 13,
   "metadata": {},
   "outputs": [],
   "source": [
    "df_flash = pd.DataFrame(flash_array, columns=flash_list)\n",
    "df_flash = df_flash[(df_flash['flash_lat'] > lat_min) & (df_flash['flash_lat'] < lat_max ) & (df_flash['flash_lon'] > lon_min) & (df_flash['flash_lon'] > lon_min)]"
   ]
  },
  {
   "cell_type": "code",
   "execution_count": 40,
   "metadata": {},
   "outputs": [
    {
     "data": {
      "text/html": [
       "<div>\n",
       "<style scoped>\n",
       "    .dataframe tbody tr th:only-of-type {\n",
       "        vertical-align: middle;\n",
       "    }\n",
       "\n",
       "    .dataframe tbody tr th {\n",
       "        vertical-align: top;\n",
       "    }\n",
       "\n",
       "    .dataframe thead th {\n",
       "        text-align: right;\n",
       "    }\n",
       "</style>\n",
       "<table border=\"1\" class=\"dataframe\">\n",
       "  <thead>\n",
       "    <tr style=\"text-align: right;\">\n",
       "      <th></th>\n",
       "      <th>event_id</th>\n",
       "      <th>event_time_offset</th>\n",
       "      <th>event_lat</th>\n",
       "      <th>event_lon</th>\n",
       "      <th>event_energy</th>\n",
       "      <th>event_parent_group_id</th>\n",
       "      <th>group_id</th>\n",
       "      <th>group_time_offset</th>\n",
       "      <th>group_frame_time_offset</th>\n",
       "      <th>group_lat</th>\n",
       "      <th>...</th>\n",
       "      <th>flash_id</th>\n",
       "      <th>flash_time_offset_of_first_event</th>\n",
       "      <th>flash_time_offset_of_last_event</th>\n",
       "      <th>flash_frame_time_offset_of_first_event</th>\n",
       "      <th>flash_frame_time_offset_of_last_event</th>\n",
       "      <th>flash_lat</th>\n",
       "      <th>flash_lon</th>\n",
       "      <th>flash_area</th>\n",
       "      <th>flash_energy</th>\n",
       "      <th>flash_quality_flag</th>\n",
       "    </tr>\n",
       "  </thead>\n",
       "  <tbody>\n",
       "    <tr>\n",
       "      <th>0</th>\n",
       "      <td>39128588.0</td>\n",
       "      <td>-0.662241</td>\n",
       "      <td>-30.789158</td>\n",
       "      <td>-67.968758</td>\n",
       "      <td>4.577910e-15</td>\n",
       "      <td>18288984.0</td>\n",
       "      <td>NaN</td>\n",
       "      <td>NaN</td>\n",
       "      <td>NaN</td>\n",
       "      <td>NaN</td>\n",
       "      <td>...</td>\n",
       "      <td>NaN</td>\n",
       "      <td>NaN</td>\n",
       "      <td>NaN</td>\n",
       "      <td>NaN</td>\n",
       "      <td>NaN</td>\n",
       "      <td>NaN</td>\n",
       "      <td>NaN</td>\n",
       "      <td>NaN</td>\n",
       "      <td>NaN</td>\n",
       "      <td>NaN</td>\n",
       "    </tr>\n",
       "    <tr>\n",
       "      <th>1</th>\n",
       "      <td>39128608.0</td>\n",
       "      <td>-0.606545</td>\n",
       "      <td>-30.789158</td>\n",
       "      <td>-67.968758</td>\n",
       "      <td>6.103880e-15</td>\n",
       "      <td>18288990.0</td>\n",
       "      <td>NaN</td>\n",
       "      <td>NaN</td>\n",
       "      <td>NaN</td>\n",
       "      <td>NaN</td>\n",
       "      <td>...</td>\n",
       "      <td>NaN</td>\n",
       "      <td>NaN</td>\n",
       "      <td>NaN</td>\n",
       "      <td>NaN</td>\n",
       "      <td>NaN</td>\n",
       "      <td>NaN</td>\n",
       "      <td>NaN</td>\n",
       "      <td>NaN</td>\n",
       "      <td>NaN</td>\n",
       "      <td>NaN</td>\n",
       "    </tr>\n",
       "    <tr>\n",
       "      <th>2</th>\n",
       "      <td>39128608.0</td>\n",
       "      <td>-0.600442</td>\n",
       "      <td>-30.789158</td>\n",
       "      <td>-67.968758</td>\n",
       "      <td>1.525970e-15</td>\n",
       "      <td>18288992.0</td>\n",
       "      <td>NaN</td>\n",
       "      <td>NaN</td>\n",
       "      <td>NaN</td>\n",
       "      <td>NaN</td>\n",
       "      <td>...</td>\n",
       "      <td>NaN</td>\n",
       "      <td>NaN</td>\n",
       "      <td>NaN</td>\n",
       "      <td>NaN</td>\n",
       "      <td>NaN</td>\n",
       "      <td>NaN</td>\n",
       "      <td>NaN</td>\n",
       "      <td>NaN</td>\n",
       "      <td>NaN</td>\n",
       "      <td>NaN</td>\n",
       "    </tr>\n",
       "    <tr>\n",
       "      <th>3</th>\n",
       "      <td>39128668.0</td>\n",
       "      <td>-0.399786</td>\n",
       "      <td>-30.789158</td>\n",
       "      <td>-67.968758</td>\n",
       "      <td>3.051940e-15</td>\n",
       "      <td>18289020.0</td>\n",
       "      <td>NaN</td>\n",
       "      <td>NaN</td>\n",
       "      <td>NaN</td>\n",
       "      <td>NaN</td>\n",
       "      <td>...</td>\n",
       "      <td>NaN</td>\n",
       "      <td>NaN</td>\n",
       "      <td>NaN</td>\n",
       "      <td>NaN</td>\n",
       "      <td>NaN</td>\n",
       "      <td>NaN</td>\n",
       "      <td>NaN</td>\n",
       "      <td>NaN</td>\n",
       "      <td>NaN</td>\n",
       "      <td>NaN</td>\n",
       "    </tr>\n",
       "    <tr>\n",
       "      <th>4</th>\n",
       "      <td>39128564.0</td>\n",
       "      <td>-0.728618</td>\n",
       "      <td>-35.375786</td>\n",
       "      <td>-49.937080</td>\n",
       "      <td>7.629850e-15</td>\n",
       "      <td>18288968.0</td>\n",
       "      <td>NaN</td>\n",
       "      <td>NaN</td>\n",
       "      <td>NaN</td>\n",
       "      <td>NaN</td>\n",
       "      <td>...</td>\n",
       "      <td>NaN</td>\n",
       "      <td>NaN</td>\n",
       "      <td>NaN</td>\n",
       "      <td>NaN</td>\n",
       "      <td>NaN</td>\n",
       "      <td>NaN</td>\n",
       "      <td>NaN</td>\n",
       "      <td>NaN</td>\n",
       "      <td>NaN</td>\n",
       "      <td>NaN</td>\n",
       "    </tr>\n",
       "  </tbody>\n",
       "</table>\n",
       "<p>5 rows × 25 columns</p>\n",
       "</div>"
      ],
      "text/plain": [
       "     event_id  event_time_offset  event_lat  event_lon  event_energy  \\\n",
       "0  39128588.0          -0.662241 -30.789158 -67.968758  4.577910e-15   \n",
       "1  39128608.0          -0.606545 -30.789158 -67.968758  6.103880e-15   \n",
       "2  39128608.0          -0.600442 -30.789158 -67.968758  1.525970e-15   \n",
       "3  39128668.0          -0.399786 -30.789158 -67.968758  3.051940e-15   \n",
       "4  39128564.0          -0.728618 -35.375786 -49.937080  7.629850e-15   \n",
       "\n",
       "   event_parent_group_id  group_id  group_time_offset  \\\n",
       "0             18288984.0       NaN                NaN   \n",
       "1             18288990.0       NaN                NaN   \n",
       "2             18288992.0       NaN                NaN   \n",
       "3             18289020.0       NaN                NaN   \n",
       "4             18288968.0       NaN                NaN   \n",
       "\n",
       "   group_frame_time_offset  group_lat  ...  flash_id  \\\n",
       "0                      NaN        NaN  ...       NaN   \n",
       "1                      NaN        NaN  ...       NaN   \n",
       "2                      NaN        NaN  ...       NaN   \n",
       "3                      NaN        NaN  ...       NaN   \n",
       "4                      NaN        NaN  ...       NaN   \n",
       "\n",
       "   flash_time_offset_of_first_event  flash_time_offset_of_last_event  \\\n",
       "0                               NaN                              NaN   \n",
       "1                               NaN                              NaN   \n",
       "2                               NaN                              NaN   \n",
       "3                               NaN                              NaN   \n",
       "4                               NaN                              NaN   \n",
       "\n",
       "   flash_frame_time_offset_of_first_event  \\\n",
       "0                                     NaN   \n",
       "1                                     NaN   \n",
       "2                                     NaN   \n",
       "3                                     NaN   \n",
       "4                                     NaN   \n",
       "\n",
       "   flash_frame_time_offset_of_last_event  flash_lat  flash_lon  flash_area  \\\n",
       "0                                    NaN        NaN        NaN         NaN   \n",
       "1                                    NaN        NaN        NaN         NaN   \n",
       "2                                    NaN        NaN        NaN         NaN   \n",
       "3                                    NaN        NaN        NaN         NaN   \n",
       "4                                    NaN        NaN        NaN         NaN   \n",
       "\n",
       "   flash_energy  flash_quality_flag  \n",
       "0           NaN                 NaN  \n",
       "1           NaN                 NaN  \n",
       "2           NaN                 NaN  \n",
       "3           NaN                 NaN  \n",
       "4           NaN                 NaN  \n",
       "\n",
       "[5 rows x 25 columns]"
      ]
     },
     "execution_count": 40,
     "metadata": {},
     "output_type": "execute_result"
    }
   ],
   "source": [
    "df_out = pd.concat([df_event, df_group, df_flash]).reset_index(drop=True)\n",
    "df_out = df_out.astype(np.float32)\n",
    "# df_out.replace(np.nan, -9999, inplace=True)\n",
    "\n",
    "# df_out['event_id'] = df_out['event_id'].astype(int)\n",
    "# df_out['group_id'] = df_out['group_id'].astype(int)\n",
    "# df_out['flash_id'] = df_out['flash_id'].astype(int)\n",
    "\n",
    "df_out.head(5)"
   ]
  },
  {
   "cell_type": "code",
   "execution_count": 45,
   "metadata": {},
   "outputs": [],
   "source": [
    "fileout2 = fileout.replace('.nc','.feather')\n",
    "df_out.to_feather(fileout2)"
   ]
  },
  {
   "cell_type": "code",
   "execution_count": 43,
   "metadata": {},
   "outputs": [
    {
     "data": {
      "text/plain": [
       "[<matplotlib.lines.Line2D at 0x7fa28ed9e340>]"
      ]
     },
     "execution_count": 43,
     "metadata": {},
     "output_type": "execute_result"
    },
    {
     "data": {
      "image/png": "[encoded data removed]",
      "text/plain": [
       "<Figure size 800x800 with 1 Axes>"
      ]
     },
     "metadata": {
      "needs_background": "light"
     },
     "output_type": "display_data"
    }
   ],
   "source": [
    "proj = ccrs.PlateCarree()\n",
    "cmap = plt.cm.Spectral_r\n",
    "\n",
    "fig = plt.figure(figsize=(4,4),dpi=200)\n",
    "gs = gridspec.GridSpec(1,1)\n",
    "\n",
    "ax1 = plt.subplot(gs[0, 0], projection = proj)\n",
    "# ax1.set_extent([lon_min,lon_max,lat_min,lat_max],crs=proj)\n",
    "ax1.coastlines(linestyle='-',linewidth=0.5,color='black',zorder=4)\n",
    "\n",
    "plt.plot(df_out['event_lon'],df_out['event_lat'],'ro',markersize=2)\n",
    "plt.plot(df_out['group_lon'],df_out['group_lat'],'bo',markersize=1)\n",
    "plt.plot(df_out['flash_lon'],df_out['flash_lat'],'go',markersize=0.5)"
   ]
  }
 ],
 "metadata": {
  "interpreter": {
   "hash": "c6c4883052875ec3257edf99ee092a790b9a432228222ee7e742d4f8a559e5a8"
  },
  "kernelspec": {
   "display_name": "Python 3.9.12 ('AXE')",
   "language": "python",
   "name": "python3"
  },
  "language_info": {
   "codemirror_mode": {
    "name": "ipython",
    "version": 3
   },
   "file_extension": ".py",
   "mimetype": "text/x-python",
   "name": "python",
   "nbconvert_exporter": "python",
   "pygments_lexer": "ipython3",
   "version": "3.9.12"
  },
  "orig_nbformat": 4
 },
 "nbformat": 4,
 "nbformat_minor": 2
}
