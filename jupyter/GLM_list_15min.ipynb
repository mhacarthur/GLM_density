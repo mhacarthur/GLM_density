{
 "cells": [
  {
   "cell_type": "code",
   "execution_count": 1,
   "metadata": {},
   "outputs": [],
   "source": [
    "import numpy as np\n",
    "import pandas as pd\n",
    "import clima_anom as ca\n",
    "import pandas as pd\n",
    "import cartopy\n",
    "import cartopy.feature as feature\n",
    "import cartopy.crs as ccrs\n",
    "import matplotlib.pyplot as plt\n",
    "from netCDF4 import Dataset"
   ]
  },
  {
   "cell_type": "code",
   "execution_count": 4,
   "metadata": {},
   "outputs": [
    {
     "name": "stdout",
     "output_type": "stream",
     "text": [
      "Days: 31\n"
     ]
    }
   ],
   "source": [
    "Ano = 2020\n",
    "Mes = '03'\n",
    "Num_dias = ca.days_number(Ano,Mes)\n",
    "print(f'Days: {Num_dias}')"
   ]
  },
  {
   "cell_type": "code",
   "execution_count": 3,
   "metadata": {},
   "outputs": [
    {
     "name": "stdout",
     "output_type": "stream",
     "text": [
      "Dia: 01\n",
      "Dia: 02\n",
      "Dia: 03\n",
      "Dia: 04\n",
      "Dia: 05\n",
      "Dia: 06\n",
      "Dia: 07\n",
      "Dia: 08\n",
      "Dia: 09\n",
      "Dia: 10\n",
      "Dia: 11\n",
      "Dia: 12\n",
      "Dia: 13\n",
      "Dia: 14\n",
      "Dia: 15\n",
      "Dia: 16\n",
      "Dia: 17\n",
      "Dia: 18\n",
      "Dia: 19\n",
      "Dia: 20\n",
      "Dia: 21\n",
      "Dia: 22\n",
      "Dia: 23\n",
      "Dia: 24\n",
      "Dia: 25\n",
      "Dia: 26\n",
      "Dia: 27\n",
      "Dia: 28\n",
      "Dia: 29\n",
      "Dia: 30\n",
      "Dia: 31\n"
     ]
    }
   ],
   "source": [
    "for mm in range(Num_dias):\n",
    "\n",
    "    Dia = (\"{:02d}\".format(mm+1))\n",
    "    print(f'Dia: {Dia}')\n",
    "\n",
    "    filename='/mnt/Data/GLM/Data/'+Ano+'/'+Mes+'/basic/'+Dia+'/Data_GOES_'+Dia+'.txt'\n",
    "    Total_list = pd.read_csv(filename,header=None,delimiter=';')\n",
    "    GLM_list = Total_list[1]\n",
    "\n",
    "    for h in range(24):\n",
    "        Hora = (\"{:02d}\".format(h))\n",
    "        # print(f'  Hora: {Hora}')\n",
    "\n",
    "        test_00_14 = []\n",
    "        test_15_29 = []\n",
    "        test_30_44 = []\n",
    "        test_45_59 = []\n",
    "\n",
    "        for t in range(len(GLM_list)):\n",
    "            name_out = GLM_list[t].split('/')[4]\n",
    "\n",
    "            start_time = GLM_list[t].split('_')[3]\n",
    "            hour_s = start_time[8:10]\n",
    "            minu_s = start_time[10:12]\n",
    "            segu_s = start_time[12:14]\n",
    "\n",
    "            end_time = GLM_list[t].split('_')[4]\n",
    "            hour_e = end_time[8:10]\n",
    "            minu_e = end_time[10:12]\n",
    "            segu_e = end_time[12:14]\n",
    "\n",
    "            if hour_s == Hora:\n",
    "                if int(minu_s) >= 0 and int(minu_s) < 15:\n",
    "                    tmp = 'GLM/Data/'+Ano+'/'+Mes+'/basic/'+Dia+'/'+name_out\n",
    "                    test_00_14.append(tmp)\n",
    "                elif int(minu_s) >= 15 and int(minu_s) < 30:\n",
    "                    tmp = 'GLM/Data/'+Ano+'/'+Mes+'/basic/'+Dia+'/'+name_out\n",
    "                    test_15_29.append(tmp)\n",
    "                elif int(minu_s) >= 30 and int(minu_s) < 45:\n",
    "                    tmp = 'GLM/Data/'+Ano+'/'+Mes+'/basic/'+Dia+'/'+name_out\n",
    "                    test_30_44.append(tmp)\n",
    "                elif int(minu_s) >= 45 and int(minu_s) < 60:\n",
    "                    tmp = 'GLM/Data/'+Ano+'/'+Mes+'/basic/'+Dia+'/'+name_out\n",
    "                    test_45_59.append(tmp)\n",
    "\n",
    "        export_00_14 = pd.DataFrame({'File':test_00_14})\n",
    "        salida_00_14 = '../List/List_15min/List_15min_'+Ano+'_'+Mes+'_'+Dia+'_'+Hora+'_'+'00_14.csv'\n",
    "        export_00_14.to_csv(salida_00_14, index = None, header=True)\n",
    "\n",
    "        export_15_29 = pd.DataFrame({'File':test_15_29})\n",
    "        salida_15_29 = '../List/List_15min/List_15min_'+Ano+'_'+Mes+'_'+Dia+'_'+Hora+'_'+'15_29.csv'\n",
    "        export_15_29.to_csv(salida_15_29, index = None, header=True)\n",
    "\n",
    "        export_30_44 = pd.DataFrame({'File':test_30_44})\n",
    "        salida_30_44 = '../List/List_15min/List_15min_'+Ano+'_'+Mes+'_'+Dia+'_'+Hora+'_'+'30_44.csv'\n",
    "        export_30_44.to_csv(salida_30_44, index = None, header=True)\n",
    "\n",
    "        export_45_59 = pd.DataFrame({'File':test_45_59})\n",
    "        salida_45_59 = '../List/List_15min/List_15min_'+Ano+'_'+Mes+'_'+Dia+'_'+Hora+'_'+'45_59.csv'\n",
    "        salida_00_14 = '../List/List_15min/List_15min_'+Ano+'_'+Mes+'_'+Dia+'_'+Hora+'_'+'00_14.csv'\n",
    "        export_00_14.to_csv(salida_00_14, index = None, header=True)\n",
    "\n",
    "        export_15_29 = pd.DataFrame({'File':test_15_29})\n",
    "        salida_15_29 = '../List/List_15min/List_15min_'+Ano+'_'+Mes+'_'+Dia+'_'+Hora+'_'+'15_29.csv'\n",
    "        export_15_29.to_csv(salida_15_29, index = None, header=True)\n",
    "\n",
    "        export_30_44 = pd.DataFrame({'File':test_30_44})\n",
    "        salida_30_44 = '../List/List_15min/List_15min_'+Ano+'_'+Mes+'_'+Dia+'_'+Hora+'_'+'30_44.csv'\n",
    "        export_30_44.to_csv(salida_30_44, index = None, header=True)\n",
    "\n",
    "        export_45_59 = pd.DataFrame({'File':test_45_59})\n",
    "        salida_45_59 = '../List/List_15min/List_15min_'+Ano+'_'+Mes+'_'+Dia+'_'+Hora+'_'+'45_59.csv'\n",
    "        export_45_59.to_csv(salida_45_59, index = None, header=True)  \n",
    "        export_45_59.to_csv(salida_45_59, index = None, header=True)  "
   ]
  },
  {
   "cell_type": "code",
   "execution_count": null,
   "metadata": {},
   "outputs": [],
   "source": []
  }
 ],
 "metadata": {
  "kernelspec": {
   "display_name": "Python 3",
   "language": "python",
   "name": "python3"
  },
  "language_info": {
   "codemirror_mode": {
    "name": "ipython",
    "version": 3
   },
   "file_extension": ".py",
   "mimetype": "text/x-python",
   "name": "python",
   "nbconvert_exporter": "python",
   "pygments_lexer": "ipython3",
   "version": "3.9.7"
  }
 },
 "nbformat": 4,
 "nbformat_minor": 4
}
