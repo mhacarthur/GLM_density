{
 "cells": [
  {
   "cell_type": "code",
   "execution_count": null,
   "metadata": {},
   "outputs": [],
   "source": [
    "import glob\n",
    "import numpy as np\n",
    "import clima_anom as ca\n",
    "\n",
    "import cartopy\n",
    "import cartopy.crs as ccrs\n",
    "import cartopy.feature as cfeature\n",
    "\n",
    "import matplotlib.pyplot as plt\n",
    "import matplotlib.gridspec as gridspec"
   ]
  },
  {
   "cell_type": "code",
   "execution_count": null,
   "metadata": {},
   "outputs": [],
   "source": [
    "list_files = glob.glob('/mnt/Data/Data/GLM/SA/Grid/*.nc')\n",
    "list_files = sorted(list_files)\n",
    "ntime = len(list_files)"
   ]
  },
  {
   "cell_type": "code",
   "execution_count": null,
   "metadata": {},
   "outputs": [],
   "source": [
    "\n",
    "for t in range(ntime):\n",
    "    data = ca.read_netcdf(list_files[t],0)\n",
    "    if t ==0:\n",
    "        tmp = data['flash']\n",
    "    else:\n",
    "        pre = data['flash']\n",
    "        salida = np.concatenate([tmp,pre])\n",
    "\n",
    "lat = data['lat']\n",
    "lon = data['lon']"
   ]
  },
  {
   "cell_type": "code",
   "execution_count": null,
   "metadata": {},
   "outputs": [],
   "source": [
    "print(f'Salida shape: {np.shape(salida)}')\n",
    "info = {'file': '/mnt/Data/Data/GLM/SA/GLM_2018_03_2021_02_15min_05x05.nc', # filename and directory\n",
    "        'title': 'South America GLM density map', # netcdf title\n",
    "        'year_start':2018,'month_start':3,'day_start':1,'hour_start':0,'minute_start':0, # time start (year,month,day,hour,minute)\n",
    "        'year_end':2021,'month_end':2,'day_end':1,'hour_end':23,'minute_end':59, # time end (year,month,day,hour,minute)\n",
    "        'time_frequency': 'Hourly', # options: Monthly, Daily, Hourly, Minutely\n",
    "        'time_interval':15,\n",
    "        'var_name': 'flash', # variable short name\n",
    "        'var_units': 'flash/0.5x0.5'} # variable units"
   ]
  },
  {
   "cell_type": "code",
   "execution_count": null,
   "metadata": {},
   "outputs": [],
   "source": [
    "# ca.create_netcdf(info,salida,lat,lon)"
   ]
  }
 ],
 "metadata": {
  "interpreter": {
   "hash": "c6c4883052875ec3257edf99ee092a790b9a432228222ee7e742d4f8a559e5a8"
  },
  "kernelspec": {
   "display_name": "Python 3.9.7 ('AXE')",
   "language": "python",
   "name": "python3"
  },
  "language_info": {
   "codemirror_mode": {
    "name": "ipython",
    "version": 3
   },
   "file_extension": ".py",
   "mimetype": "text/x-python",
   "name": "python",
   "nbconvert_exporter": "python",
   "pygments_lexer": "ipython3",
   "version": "3.9.7"
  },
  "orig_nbformat": 4
 },
 "nbformat": 4,
 "nbformat_minor": 2
}
