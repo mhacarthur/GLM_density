{
 "cells": [
  {
   "cell_type": "code",
   "execution_count": null,
   "metadata": {},
   "outputs": [],
   "source": [
    "import os\n",
    "import glob\n",
    "import subprocess\n",
    "from subprocess import Popen, PIPE\n",
    "import numpy as np\n",
    "\n",
    "from os.path import exists as file_exists"
   ]
  },
  {
   "cell_type": "code",
   "execution_count": null,
   "metadata": {},
   "outputs": [],
   "source": [
    "year = 2018\n",
    "month = '09'\n",
    "\n",
    "url_in = 'noaa-goes16/GLM-L2-LCFA/'+str(year)+'/'+str(month)\n",
    "print(f'url_in: {url_in}')"
   ]
  },
  {
   "cell_type": "code",
   "execution_count": null,
   "metadata": {},
   "outputs": [],
   "source": [
    "dir_base = '/home/arturo/Documents/GLM/'\n",
    "if os.path.isdir(dir_base):\n",
    "    print(f'{dir_base} exists')\n",
    "else:\n",
    "    os.mkdir(dir_base)\n",
    "    print(f'{dir_base} created')\n",
    "\n",
    "dir_year = dir_base + str(year)\n",
    "if os.path.isdir(dir_year):\n",
    "    print(f'{dir_year} exists')\n",
    "else:\n",
    "    os.mkdir(dir_year)\n",
    "    print(f'{dir_year} created')\n",
    "\n",
    "dir_out = dir_year + '/' + str(month) + '/'\n",
    "if os.path.isdir(dir_out):\n",
    "    print(f'{dir_out} exists')\n",
    "else:\n",
    "    os.mkdir(dir_out)\n",
    "    print(f'{dir_out} created')"
   ]
  },
  {
   "cell_type": "code",
   "execution_count": null,
   "metadata": {},
   "outputs": [],
   "source": [
    "list_files = subprocess.run([\"aws\", \"s3\", \"--no-sign-request\", \"ls\", \"--recursive\", url_in], stdout=PIPE).stdout.splitlines()\n",
    "len_list_files = len(list_files)\n",
    "print(f'len_list_files: {len_list_files}')"
   ]
  },
  {
   "cell_type": "code",
   "execution_count": null,
   "metadata": {},
   "outputs": [],
   "source": [
    "for nn in range(len_list_files):\n",
    "    name1 = list_files[nn].decode('utf-8').split()[-1]\n",
    "    file_download = 's3://noaa-goes16/' + name1\n",
    "    salida = dir_out + name1.split('/')[-1]\n",
    "    \n",
    "    if nn%2000 == 0:\n",
    "        print(f'{nn}/{len_list_files}')\n",
    "\n",
    "    if  file_exists(salida) == True:\n",
    "        pass\n",
    "    else:\n",
    "        subprocess.run([\"aws\", \"s3\", \"--no-sign-request\", \"cp\", file_download, salida])"
   ]
  },
  {
   "cell_type": "code",
   "execution_count": null,
   "metadata": {},
   "outputs": [],
   "source": []
  }
 ],
 "metadata": {
  "interpreter": {
   "hash": "c6c4883052875ec3257edf99ee092a790b9a432228222ee7e742d4f8a559e5a8"
  },
  "kernelspec": {
   "display_name": "Python 3.9.12 ('AXE')",
   "language": "python",
   "name": "python3"
  },
  "language_info": {
   "codemirror_mode": {
    "name": "ipython",
    "version": 3
   },
   "file_extension": ".py",
   "mimetype": "text/x-python",
   "name": "python",
   "nbconvert_exporter": "python",
   "pygments_lexer": "ipython3",
   "version": "3.9.12"
  },
  "orig_nbformat": 4
 },
 "nbformat": 4,
 "nbformat_minor": 2
}
