{
 "cells": [
  {
   "cell_type": "code",
   "execution_count": 1,
   "metadata": {},
   "outputs": [],
   "source": [
    "import numpy as np\n",
    "import pandas as pd\n",
    "import clima_anom as ca\n",
    "\n",
    "import os\n",
    "from os.path import exists as file_exists\n",
    "\n",
    "import sys\n",
    "sys.path.append('../../function/')\n",
    "from Functions import get_url_files, download_file"
   ]
  },
  {
   "cell_type": "markdown",
   "metadata": {},
   "source": [
    "FONT: http://ftp.cptec.inpe.br/goes/goes16/glm/"
   ]
  },
  {
   "cell_type": "code",
   "execution_count": 2,
   "metadata": {},
   "outputs": [
    {
     "name": "stdout",
     "output_type": "stream",
     "text": [
      "Ano:  2019\n",
      "Mes:  Marzo\n",
      "Days number: 31\n"
     ]
    }
   ],
   "source": [
    "year = '2019'\n",
    "month = '03'\n",
    "\n",
    "num_dias, _, _, _ = ca.days_number(year,month)\n",
    "print(f'Days number: {num_dias}')"
   ]
  },
  {
   "cell_type": "code",
   "execution_count": 3,
   "metadata": {},
   "outputs": [
    {
     "name": "stdout",
     "output_type": "stream",
     "text": [
      "/mnt/Data/GLM/Data/ exists\n",
      "/mnt/Data/GLM/Data/2019 exists\n",
      "/mnt/Data/GLM/Data/2019/03/basic/ exists\n"
     ]
    }
   ],
   "source": [
    "dir_base = '/mnt/Data/GLM/Data/'\n",
    "if os.path.isdir(dir_base):\n",
    "    print(f'{dir_base} exists')\n",
    "else:\n",
    "    os.mkdir(dir_base)\n",
    "    print(f'{dir_base} created')\n",
    "\n",
    "dir_year = dir_base + str(year)\n",
    "if os.path.isdir(dir_year):\n",
    "    print(f'{dir_year} exists')\n",
    "else:\n",
    "    os.mkdir(dir_year)\n",
    "    print(f'{dir_year} created')\n",
    "\n",
    "dir_out = dir_year + '/' + str(month) + '/basic/'\n",
    "if os.path.isdir(dir_out):\n",
    "    print(f'{dir_out} exists')\n",
    "else:\n",
    "    os.mkdir(dir_out)\n",
    "    print(f'{dir_out} created')\n",
    "\n",
    "for dd in range(num_dias):\n",
    "    day = str(dd+1).zfill(2)\n",
    "    if os.path.isdir(dir_out + day):\n",
    "        continue\n",
    "    else:\n",
    "        os.mkdir(dir_out + day)"
   ]
  },
  {
   "cell_type": "code",
   "execution_count": 4,
   "metadata": {},
   "outputs": [
    {
     "name": "stdout",
     "output_type": "stream",
     "text": [
      "Day: 01\n"
     ]
    },
    {
     "name": "stderr",
     "output_type": "stream",
     "text": [
      " 38%|███▊      | 131/343.6240234375 [00:00<00:00, 1303.04KB/s]/home/arturo/anaconda3/envs/AXE/lib/python3.9/site-packages/tqdm/std.py:533: TqdmWarning: clamping frac to range [0, 1]\n",
      "  full_bar = Bar(frac,\n",
      "100%|██████████| 344/343.6240234375 [00:00<00:00, 1722.18KB/s]\n"
     ]
    },
    {
     "name": "stdout",
     "output_type": "stream",
     "text": [
      "\n",
      "Day: 02\n",
      "\n",
      "Day: 03\n",
      "\n",
      "Day: 04\n",
      "\n",
      "Day: 05\n",
      "\n",
      "Day: 06\n",
      "\n",
      "Day: 07\n",
      "\n",
      "Day: 08\n",
      "\n",
      "Day: 09\n",
      "\n",
      "Day: 10\n",
      "\n",
      "Day: 11\n",
      "\n",
      "Day: 12\n",
      "\n",
      "Day: 13\n",
      "\n",
      "Day: 14\n",
      "\n",
      "Day: 15\n",
      "\n",
      "Day: 16\n",
      "\n",
      "Day: 17\n",
      "\n",
      "Day: 18\n",
      "\n",
      "Day: 19\n",
      "\n",
      "Day: 20\n",
      "\n",
      "Day: 21\n",
      "\n",
      "Day: 22\n",
      "\n",
      "Day: 23\n",
      "\n",
      "Day: 24\n",
      "\n",
      "Day: 25\n",
      "\n",
      "Day: 26\n",
      "\n",
      "Day: 27\n",
      "\n",
      "Day: 28\n",
      "\n",
      "Day: 29\n",
      "\n",
      "Day: 30\n",
      "\n",
      "Day: 31\n",
      "\n"
     ]
    }
   ],
   "source": [
    "BASE_URL = 'http://ftp.cptec.inpe.br/goes/goes16/glm'\n",
    "\n",
    "for dd in range(num_dias):#num_dias\n",
    "    day = str(dd + 1).zfill(2)\n",
    "\n",
    "    print(f'Day: {day}')\n",
    "    dir_out = '/mnt/Data/GLM/Data/' + year + '/' + month + '/basic/' + day\n",
    "\n",
    "    url = BASE_URL + '/' + year + '/' + month + '/' + day\n",
    "    urls = get_url_files(url)\n",
    "\n",
    "    urls_names = []\n",
    "    for ll in range(len(urls)):\n",
    "        urls_names.append(urls[ll].split('/')[-1])\n",
    "\n",
    "    urls_dic = pd.DataFrame(urls_names,columns=['urls_in_server'])\n",
    "    csv_out = dir_out+'/Data_GOES_'+day+'.csv'\n",
    "    urls_dic.to_csv(csv_out,index=False)\n",
    "\n",
    "    for n in urls:\n",
    "\n",
    "        file_name = n.split('/')[-1]\n",
    "\n",
    "        if not os.path.exists(dir_out+'/'+file_name):\n",
    "            download_file(n,dir_out+'/'+file_name)\n",
    "        else:\n",
    "            continue\n",
    "\n",
    "    print()"
   ]
  },
  {
   "cell_type": "code",
   "execution_count": 5,
   "metadata": {},
   "outputs": [
    {
     "data": {
      "text/plain": [
       "'31'"
      ]
     },
     "execution_count": 5,
     "metadata": {},
     "output_type": "execute_result"
    }
   ],
   "source": [
    "day"
   ]
  }
 ],
 "metadata": {
  "kernelspec": {
   "display_name": "Python 3.9.7 ('AXE')",
   "language": "python",
   "name": "python3"
  },
  "language_info": {
   "codemirror_mode": {
    "name": "ipython",
    "version": 3
   },
   "file_extension": ".py",
   "mimetype": "text/x-python",
   "name": "python",
   "nbconvert_exporter": "python",
   "pygments_lexer": "ipython3",
   "version": "3.9.7"
  },
  "orig_nbformat": 4,
  "vscode": {
   "interpreter": {
    "hash": "c6c4883052875ec3257edf99ee092a790b9a432228222ee7e742d4f8a559e5a8"
   }
  }
 },
 "nbformat": 4,
 "nbformat_minor": 2
}
