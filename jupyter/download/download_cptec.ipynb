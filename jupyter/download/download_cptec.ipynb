{
 "cells": [
  {
   "cell_type": "code",
   "execution_count": null,
   "metadata": {},
   "outputs": [],
   "source": [
    "import os\n",
    "import glob\n",
    "import subprocess\n",
    "import numpy as np\n",
    "import clima_anom as ca\n",
    "from subprocess import Popen, PIPE\n",
    "\n",
    "import requests\n",
    "from tqdm import tqdm\n",
    "from bs4 import BeautifulSoup\n",
    "\n",
    "from os.path import exists as file_exists"
   ]
  },
  {
   "cell_type": "markdown",
   "metadata": {},
   "source": [
    "FONT: http://ftp.cptec.inpe.br/goes/goes16/glm/"
   ]
  },
  {
   "cell_type": "code",
   "execution_count": null,
   "metadata": {},
   "outputs": [],
   "source": [
    "def get_subdirectories(BASE_URL):\n",
    "    res = requests.get(BASE_URL)\n",
    "    soup = BeautifulSoup(res.text, 'html.parser')\n",
    "\n",
    "    rows = soup.findAll('tr')\n",
    "\n",
    "    years = []\n",
    "    for row in rows[3:-1]:\n",
    "        row = row.find('a')\n",
    "        years.append(row.attrs['href'])\n",
    "\n",
    "    return years"
   ]
  },
  {
   "cell_type": "code",
   "execution_count": null,
   "metadata": {},
   "outputs": [],
   "source": [
    "def get_url_files(url):\n",
    "    res = requests.get(url)\n",
    "    soup = BeautifulSoup(res.text, 'html.parser')\n",
    "    \n",
    "    rows = soup.findAll('tr')\n",
    "    \n",
    "    urls = list()\n",
    "\n",
    "    for row in rows[3:-1]:\n",
    "        row  = row.find('a')\n",
    "        try:\n",
    "            link = row.attrs['href']\n",
    "            urls.append(os.path.join(url, link))\n",
    "        except:\n",
    "            pass\n",
    "    return urls"
   ]
  },
  {
   "cell_type": "code",
   "execution_count": null,
   "metadata": {},
   "outputs": [],
   "source": [
    "def download_file(url_file,file_out):\n",
    "    res = requests.get(url_file, stream=True)\n",
    "    total_size = int(res.headers['content-length'])\n",
    "\n",
    "    with open(file_out, 'wb') as handle:\n",
    "        for data in tqdm(iterable=res.iter_content(chunk_size=1024), total=total_size/1024, unit='KB'):\n",
    "            handle.write(data)\n",
    "    # print(\"Done!\")"
   ]
  },
  {
   "cell_type": "code",
   "execution_count": null,
   "metadata": {},
   "outputs": [],
   "source": [
    "year = '2018'\n",
    "month = '09'\n",
    "\n",
    "num_dias, _, _, _ = ca.days_number(year,month)\n",
    "print(f'Days number: {num_dias}')"
   ]
  },
  {
   "cell_type": "code",
   "execution_count": null,
   "metadata": {},
   "outputs": [],
   "source": [
    "dir_base = '/mnt/Data/GLM/Data/'\n",
    "if os.path.isdir(dir_base):\n",
    "    print(f'{dir_base} exists')\n",
    "else:\n",
    "    os.mkdir(dir_base)\n",
    "    print(f'{dir_base} created')\n",
    "\n",
    "dir_year = dir_base + str(year)\n",
    "if os.path.isdir(dir_year):\n",
    "    print(f'{dir_year} exists')\n",
    "else:\n",
    "    os.mkdir(dir_year)\n",
    "    print(f'{dir_year} created')\n",
    "\n",
    "dir_out = dir_year + '/' + str(month) + '/'\n",
    "if os.path.isdir(dir_out):\n",
    "    print(f'{dir_out} exists')\n",
    "else:\n",
    "    os.mkdir(dir_out)\n",
    "    print(f'{dir_out} created')\n",
    "\n",
    "for dd in range(num_dias):\n",
    "    day = str(dd+1).zfill(2)\n",
    "    if os.path.isdir(dir_out + day):\n",
    "        continue\n",
    "    else:\n",
    "        os.mkdir(dir_out + day)"
   ]
  },
  {
   "cell_type": "code",
   "execution_count": null,
   "metadata": {},
   "outputs": [],
   "source": [
    "BASE_URL = 'http://ftp.cptec.inpe.br/goes/goes16/glm'\n",
    "\n",
    "for dd in range(num_dias):\n",
    "    day = str(dd + 1).zfill(2)\n",
    "\n",
    "    print(f'Day: {day}')\n",
    "    dir_out = '/mnt/Data/GLM/Data/' + year + '/' + month + '/' + day\n",
    "\n",
    "    url = BASE_URL + '/' + year + '/' + month + '/' + day\n",
    "    urls = get_url_files(url)\n",
    "\n",
    "    for n in urls:\n",
    "\n",
    "        file_name = n.split('/')[-1]\n",
    "\n",
    "        if not os.path.exists(dir_out+'/'+file_name):\n",
    "            download_file(n,dir_out+'/'+file_name)\n",
    "        else:\n",
    "            print(\"   File Exists\")\n",
    "\n",
    "    print()"
   ]
  },
  {
   "cell_type": "code",
   "execution_count": null,
   "metadata": {},
   "outputs": [],
   "source": []
  }
 ],
 "metadata": {
  "kernelspec": {
   "display_name": "Python 3.9.7 ('AXE')",
   "language": "python",
   "name": "python3"
  },
  "language_info": {
   "codemirror_mode": {
    "name": "ipython",
    "version": 3
   },
   "file_extension": ".py",
   "mimetype": "text/x-python",
   "name": "python",
   "nbconvert_exporter": "python",
   "pygments_lexer": "ipython3",
   "version": "3.9.7"
  },
  "orig_nbformat": 4,
  "vscode": {
   "interpreter": {
    "hash": "c6c4883052875ec3257edf99ee092a790b9a432228222ee7e742d4f8a559e5a8"
   }
  }
 },
 "nbformat": 4,
 "nbformat_minor": 2
}
